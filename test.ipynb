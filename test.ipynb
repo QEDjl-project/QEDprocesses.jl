{
 "cells": [
  {
   "cell_type": "code",
   "execution_count": 45,
   "metadata": {},
   "outputs": [
    {
     "name": "stderr",
     "output_type": "stream",
     "text": [
      "WARNING: using QEDprocesses.spin in module Main conflicts with an existing identifier.\n"
     ]
    }
   ],
   "source": [
    "using QEDbase\n",
    "using QEDprocesses\n",
    "using StaticArrays\n",
    "using BenchmarkTools"
   ]
  },
  {
   "cell_type": "code",
   "execution_count": 46,
   "metadata": {},
   "outputs": [
    {
     "name": "stderr",
     "output_type": "stream",
     "text": [
      "WARNING: replacing module TestImplementation.\n"
     ]
    },
    {
     "data": {
      "text/plain": [
       "Main.TestImplementation"
      ]
     },
     "metadata": {},
     "output_type": "display_data"
    }
   ],
   "source": [
    "include(\"test/test_implementation/TestImplementation.jl\")"
   ]
  },
  {
   "cell_type": "code",
   "execution_count": 47,
   "metadata": {},
   "outputs": [
    {
     "name": "stdout",
     "output_type": "stream",
     "text": [
      "INCOMING_PARTICLES = (Main.TestImplementation.TestParticleBoson(), Main.TestImplementation.TestParticleFermion())\n",
      "OUTGOING_PARTICLES = (Main.TestImplementation.TestParticleBoson(), Main.TestImplementation.TestParticleFermion())\n",
      "in_particles = ParticleStateful{SFourMomentum}[ParticleStateful{SFourMomentum}(Incoming(), Main.TestImplementation.TestParticleBoson(), [0.7548578705827804, 0.13707916538343112, 0.07116957020224535, 0.621160809612867], AllPolarization()), ParticleStateful{SFourMomentum}(Incoming(), Main.TestImplementation.TestParticleFermion(), [0.6807771034376503, 0.10878568352615947, 0.012515411738260207, 0.8557556674957292], AllSpin())]\n",
      "out_particles = ParticleStateful{SFourMomentum}[ParticleStateful{SFourMomentum}(Outgoing(), Main.TestImplementation.TestParticleBoson(), [0.4978838377974715, 0.5290236778574126, 0.6668086726836597, 0.6127433710635429], AllPolarization()), ParticleStateful{SFourMomentum}(Outgoing(), Main.TestImplementation.TestParticleFermion(), [0.016980387451874135, 0.45760935076843756, 0.6538251613939092, 0.8195281290911294], AllSpin())]\n"
     ]
    },
    {
     "data": {
      "text/plain": [
       "2-element SVector{2, ParticleStateful{SFourMomentum}} with indices SOneTo(2):\n",
       " ParticleStateful{SFourMomentum}(Outgoing(), Main.TestImplementation.TestParticleBoson(), [0.4978838377974715, 0.5290236778574126, 0.6668086726836597, 0.6127433710635429], AllPolarization())\n",
       " ParticleStateful{SFourMomentum}(Outgoing(), Main.TestImplementation.TestParticleFermion(), [0.016980387451874135, 0.45760935076843756, 0.6538251613939092, 0.8195281290911294], AllSpin())"
      ]
     },
     "metadata": {},
     "output_type": "display_data"
    }
   ],
   "source": [
    "TESTMODEL = TestImplementation.TestModel()\n",
    "TESTPSDEF = TestImplementation.TestPhasespaceDef()\n",
    "\n",
    "INCOMING_PARTICLES = (TestImplementation.TestParticleBoson(), TestImplementation.TestParticleFermion())\n",
    "@show INCOMING_PARTICLES\n",
    "OUTGOING_PARTICLES = (TestImplementation.TestParticleBoson(), TestImplementation.TestParticleFermion())\n",
    "@show OUTGOING_PARTICLES\n",
    "\n",
    "TESTPROC = TestImplementation.TestProcess(INCOMING_PARTICLES, OUTGOING_PARTICLES)\n",
    "\n",
    "in_bos = ParticleStateful(Incoming(), INCOMING_PARTICLES[1], rand(SFourMomentum),AllPol()) \n",
    "in_ferm= ParticleStateful(Incoming(), INCOMING_PARTICLES[2], rand(SFourMomentum),AllSpin()) \n",
    "out_bos = ParticleStateful(Outgoing(), OUTGOING_PARTICLES[1], rand(SFourMomentum),AllPol()) \n",
    "out_ferm= ParticleStateful(Outgoing(), OUTGOING_PARTICLES[2], rand(SFourMomentum),AllSpin()) \n",
    "\n",
    "in_particles= SVector{2}([in_bos, in_ferm])\n",
    "@show in_particles\n",
    "out_particles= SVector(out_bos, out_ferm)\n",
    "@show out_particles\n",
    "\n"
   ]
  },
  {
   "cell_type": "code",
   "execution_count": 48,
   "metadata": {},
   "outputs": [
    {
     "data": {
      "text/plain": [
       "BenchmarkTools.Trial: 10000 samples with 796 evaluations.\n",
       " Range \u001b[90m(\u001b[39m\u001b[36m\u001b[1mmin\u001b[22m\u001b[39m … \u001b[35mmax\u001b[39m\u001b[90m):  \u001b[39m\u001b[36m\u001b[1m160.019 ns\u001b[22m\u001b[39m … \u001b[35m 2.130 μs\u001b[39m  \u001b[90m┊\u001b[39m GC \u001b[90m(\u001b[39mmin … max\u001b[90m): \u001b[39m0.00% … 90.73%\n",
       " Time  \u001b[90m(\u001b[39m\u001b[34m\u001b[1mmedian\u001b[22m\u001b[39m\u001b[90m):     \u001b[39m\u001b[34m\u001b[1m164.835 ns              \u001b[22m\u001b[39m\u001b[90m┊\u001b[39m GC \u001b[90m(\u001b[39mmedian\u001b[90m):    \u001b[39m0.00%\n",
       " Time  \u001b[90m(\u001b[39m\u001b[32m\u001b[1mmean\u001b[22m\u001b[39m ± \u001b[32mσ\u001b[39m\u001b[90m):   \u001b[39m\u001b[32m\u001b[1m172.402 ns\u001b[22m\u001b[39m ± \u001b[32m84.184 ns\u001b[39m  \u001b[90m┊\u001b[39m GC \u001b[90m(\u001b[39mmean ± σ\u001b[90m):  \u001b[39m3.82% ±  6.77%\n",
       "\n",
       "  \u001b[39m \u001b[39m \u001b[39m▄\u001b[39m▅\u001b[39m▂\u001b[39m▂\u001b[39m▁\u001b[39m▃\u001b[39m▄\u001b[39m█\u001b[39m▃\u001b[34m▂\u001b[39m\u001b[39m▂\u001b[39m▄\u001b[39m▄\u001b[39m▁\u001b[39m \u001b[39m \u001b[39m \u001b[39m \u001b[39m \u001b[39m \u001b[39m \u001b[39m \u001b[39m \u001b[39m \u001b[39m \u001b[32m \u001b[39m\u001b[39m \u001b[39m \u001b[39m \u001b[39m \u001b[39m \u001b[39m \u001b[39m \u001b[39m \u001b[39m \u001b[39m \u001b[39m \u001b[39m \u001b[39m \u001b[39m \u001b[39m \u001b[39m \u001b[39m \u001b[39m \u001b[39m \u001b[39m \u001b[39m \u001b[39m \u001b[39m \u001b[39m \u001b[39m \u001b[39m \u001b[39m \u001b[39m \u001b[39m \u001b[39m \u001b[39m \u001b[39m \u001b[39m \u001b[39m \n",
       "  \u001b[39m▂\u001b[39m▅\u001b[39m█\u001b[39m█\u001b[39m█\u001b[39m█\u001b[39m█\u001b[39m█\u001b[39m█\u001b[39m█\u001b[39m█\u001b[34m█\u001b[39m\u001b[39m█\u001b[39m█\u001b[39m█\u001b[39m█\u001b[39m▇\u001b[39m▇\u001b[39m▆\u001b[39m▆\u001b[39m▅\u001b[39m▄\u001b[39m▄\u001b[39m▃\u001b[39m▃\u001b[39m▃\u001b[39m▃\u001b[32m▃\u001b[39m\u001b[39m▃\u001b[39m▃\u001b[39m▃\u001b[39m▃\u001b[39m▃\u001b[39m▂\u001b[39m▂\u001b[39m▂\u001b[39m▂\u001b[39m▂\u001b[39m▂\u001b[39m▂\u001b[39m▂\u001b[39m▂\u001b[39m▂\u001b[39m▂\u001b[39m▂\u001b[39m▂\u001b[39m▂\u001b[39m▂\u001b[39m▂\u001b[39m▂\u001b[39m▂\u001b[39m▂\u001b[39m▂\u001b[39m▂\u001b[39m▂\u001b[39m▂\u001b[39m▂\u001b[39m▁\u001b[39m▂\u001b[39m▂\u001b[39m \u001b[39m▄\n",
       "  160 ns\u001b[90m          Histogram: frequency by time\u001b[39m          187 ns \u001b[0m\u001b[1m<\u001b[22m\n",
       "\n",
       " Memory estimate\u001b[90m: \u001b[39m\u001b[33m384 bytes\u001b[39m, allocs estimate\u001b[90m: \u001b[39m\u001b[33m6\u001b[39m."
      ]
     },
     "metadata": {},
     "output_type": "display_data"
    }
   ],
   "source": [
    "@benchmark PhaseSpacePoint($TESTPROC,$TESTMODEL,$TESTPSDEF,$in_particles,$out_particles)"
   ]
  },
  {
   "cell_type": "code",
   "execution_count": 5,
   "metadata": {},
   "outputs": [
    {
     "ename": "LoadError",
     "evalue": "LoadError: UndefVarError: `QEDprocesses` not defined\nin expression starting at /Users/uwe/Work/jlProjects/QEDjl-project/forks/QEDprocesses.jl/test.ipynb:11",
     "output_type": "error",
     "traceback": [
      "LoadError: UndefVarError: `QEDprocesses` not defined\n",
      "in expression starting at /Users/uwe/Work/jlProjects/QEDjl-project/forks/QEDprocesses.jl/test.ipynb:11\n"
     ]
    }
   ],
   "source": [
    "\n",
    "function generate_phase_space(proc, model, ps_def, in_ps, out_ps)\n",
    "    in_particles = incoming_particles(proc)\n",
    "    in_n = number_incoming_particles(proc)\n",
    "    in_parts = SVector{in_n,ParticleStateful{SFourMomentum}}(collect(ParticleStateful(Incoming(),particle,mom) for (particle,mom) in zip(in_particles,in_ps)))\n",
    "\n",
    "    out_particles = outgoing_particles(proc)\n",
    "    out_n = number_outgoing_particles(proc)\n",
    "    out_parts = SVector{out_n,ParticleStateful{SFourMomentum}}(collect(ParticleStateful(Outgoing(),particle,mom) for (particle,mom) in zip(out_particles,out_ps)))\n",
    "    #@show typeof(out_parts)\n",
    "    return QEDprocesses.@valid_phase_space PhaseSpacePoint(proc,model,ps_def,in_parts,out_parts)\n",
    "    #return (in_parts,out_parts)\n",
    "end\n"
   ]
  },
  {
   "cell_type": "code",
   "execution_count": 6,
   "metadata": {},
   "outputs": [
    {
     "ename": "UndefVarError",
     "evalue": "UndefVarError: `ParticleStateful` not defined",
     "output_type": "error",
     "traceback": [
      "UndefVarError: `ParticleStateful` not defined\n",
      "\n",
      "Stacktrace:\n",
      " [1] top-level scope\n",
      "   @ ~/Work/jlProjects/QEDjl-project/forks/QEDprocesses.jl/test.ipynb:2"
     ]
    }
   ],
   "source": [
    "moms = rand(SFourMomentum)\n",
    "@code_warntype ParticleStateful(Incoming(),Electron(),moms)"
   ]
  },
  {
   "cell_type": "code",
   "execution_count": 7,
   "metadata": {},
   "outputs": [
    {
     "ename": "UndefVarError",
     "evalue": "UndefVarError: `generate_phase_space` not defined",
     "output_type": "error",
     "traceback": [
      "UndefVarError: `generate_phase_space` not defined\n",
      "\n",
      "Stacktrace:\n",
      " [1] top-level scope\n",
      "   @ ~/Work/jlProjects/QEDjl-project/forks/QEDprocesses.jl/test.ipynb:4"
     ]
    }
   ],
   "source": [
    "in_moms = rand(SFourMomentum,6)\n",
    "out_moms =rand(SFourMomentum,2)\n",
    "\n",
    "generate_phase_space(TESTPROC,TESTMODEL,TESTPSDEF,in_moms,out_moms)\n",
    "@code_warntype generate_phase_space(TESTPROC,TESTMODEL,TESTPSDEF,in_moms,out_moms)"
   ]
  },
  {
   "cell_type": "code",
   "execution_count": 8,
   "metadata": {},
   "outputs": [
    {
     "ename": "LoadError",
     "evalue": "LoadError: UndefVarError: `@benchmark` not defined\nin expression starting at /Users/uwe/Work/jlProjects/QEDjl-project/forks/QEDprocesses.jl/test.ipynb:2",
     "output_type": "error",
     "traceback": [
      "LoadError: UndefVarError: `@benchmark` not defined\n",
      "in expression starting at /Users/uwe/Work/jlProjects/QEDjl-project/forks/QEDprocesses.jl/test.ipynb:2\n"
     ]
    }
   ],
   "source": [
    "\n",
    "@benchmark generate_phase_space($TESTPROC,$TESTMODEL,$TESTPSDEF,$in_moms,$out_moms)"
   ]
  },
  {
   "cell_type": "code",
   "execution_count": 9,
   "metadata": {},
   "outputs": [
    {
     "data": {
      "text/plain": [
       "2-element Vector{SFourMomentum}:\n",
       " [0.8324001907370971, 0.4026362349915851, 0.5218146487338337, 0.1479468153164848]\n",
       " [0.43886676248022116, 0.08978749369993377, 0.022213502031599774, 0.6031159394215271]"
      ]
     },
     "metadata": {},
     "output_type": "display_data"
    }
   ],
   "source": [
    "in_moms_long = rand(SFourMomentum,1000000,2)\n",
    "out_mom_long = rand(SFourMomentum,2)\n"
   ]
  },
  {
   "cell_type": "code",
   "execution_count": 10,
   "metadata": {},
   "outputs": [
    {
     "ename": "UndefVarError",
     "evalue": "UndefVarError: `generate_phase_space` not defined",
     "output_type": "error",
     "traceback": [
      "UndefVarError: `generate_phase_space` not defined\n",
      "\n",
      "Stacktrace:\n",
      " [1] top-level scope\n",
      "   @ ~/Work/jlProjects/QEDjl-project/forks/QEDprocesses.jl/test.ipynb:2"
     ]
    }
   ],
   "source": [
    "\n",
    "psp_list = generate_phase_space.(TESTPROC,TESTMODEL,TESTPSDEF,eachrow(in_moms_long),Ref(out_mom_long))"
   ]
  },
  {
   "cell_type": "code",
   "execution_count": 11,
   "metadata": {},
   "outputs": [
    {
     "ename": "LoadError",
     "evalue": "LoadError: UndefVarError: `@benchmark` not defined\nin expression starting at /Users/uwe/Work/jlProjects/QEDjl-project/forks/QEDprocesses.jl/test.ipynb:1",
     "output_type": "error",
     "traceback": [
      "LoadError: UndefVarError: `@benchmark` not defined\n",
      "in expression starting at /Users/uwe/Work/jlProjects/QEDjl-project/forks/QEDprocesses.jl/test.ipynb:1\n"
     ]
    }
   ],
   "source": [
    "@benchmark $psp_list[1]"
   ]
  },
  {
   "cell_type": "code",
   "execution_count": 12,
   "metadata": {},
   "outputs": [
    {
     "ename": "LoadError",
     "evalue": "LoadError: UndefVarError: `@benchmark` not defined\nin expression starting at /Users/uwe/Work/jlProjects/QEDjl-project/forks/QEDprocesses.jl/test.ipynb:1",
     "output_type": "error",
     "traceback": [
      "LoadError: UndefVarError: `@benchmark` not defined\n",
      "in expression starting at /Users/uwe/Work/jlProjects/QEDjl-project/forks/QEDprocesses.jl/test.ipynb:1\n"
     ]
    }
   ],
   "source": [
    "@benchmark generate_phase_space.($TESTPROC,$TESTMODEL,$TESTPSDEF,eachrow($in_moms_long),Ref($out_mom_long))"
   ]
  },
  {
   "cell_type": "code",
   "execution_count": 13,
   "metadata": {},
   "outputs": [
    {
     "ename": "LoadError",
     "evalue": "LoadError: UndefVarError: `@benchmark` not defined\nin expression starting at /Users/uwe/Work/jlProjects/QEDjl-project/forks/QEDprocesses.jl/test.ipynb:1",
     "output_type": "error",
     "traceback": [
      "LoadError: UndefVarError: `@benchmark` not defined\n",
      "in expression starting at /Users/uwe/Work/jlProjects/QEDjl-project/forks/QEDprocesses.jl/test.ipynb:1\n"
     ]
    }
   ],
   "source": [
    "@benchmark rand(SFourMomentum,2,1000000)"
   ]
  },
  {
   "cell_type": "code",
   "execution_count": 14,
   "metadata": {},
   "outputs": [
    {
     "ename": "LoadError",
     "evalue": "LoadError: UndefVarError: `@benchmark` not defined\nin expression starting at /Users/uwe/Work/jlProjects/QEDjl-project/forks/QEDprocesses.jl/test.ipynb:1",
     "output_type": "error",
     "traceback": [
      "LoadError: UndefVarError: `@benchmark` not defined\n",
      "in expression starting at /Users/uwe/Work/jlProjects/QEDjl-project/forks/QEDprocesses.jl/test.ipynb:1\n"
     ]
    }
   ],
   "source": [
    "@benchmark deepcopy($in_moms)"
   ]
  },
  {
   "cell_type": "code",
   "execution_count": 15,
   "metadata": {},
   "outputs": [],
   "source": []
  },
  {
   "cell_type": "code",
   "execution_count": 16,
   "metadata": {},
   "outputs": [],
   "source": [
    "struct ParticleStateful2 <: AbstractParticle\n",
    "    dir::ParticleDirection\n",
    "    species::AbstractParticleType\n",
    "    mom::QEDbase.AbstractFourMomentum\n",
    "    spin_or_pol::AbstractSpinOrPolarization\n",
    "\n",
    "    function ParticleStateful2(\n",
    "        dir::ParticleDirection, species::FermionLike, mom::QEDbase.AbstractFourMomentum, spin::AbstractSpin=AllSpin())\n",
    "        # constructor for fermions with spin\n",
    "        return new(dir, species, mom, spin)\n",
    "    end\n",
    "\n",
    "    function ParticleStateful2(\n",
    "        dir::ParticleDirection, species::BosonLike, mom::QEDbase.AbstractFourMomentum, pol::AbstractPolarization=AllPol())\n",
    "        # constructor for bosons with polarization\n",
    "        return new(dir, species, mom, pol)\n",
    "    end\n",
    "end"
   ]
  },
  {
   "cell_type": "code",
   "execution_count": 17,
   "metadata": {},
   "outputs": [
    {
     "data": {
      "text/plain": [
       "Base.RefValue{AllSpin}(AllSpin())"
      ]
     },
     "metadata": {},
     "output_type": "display_data"
    }
   ],
   "source": [
    "moms = Ref(rand(SFourMomentum))\n",
    "dir = Ref(Incoming())\n",
    "part = Ref(Electron())\n",
    "spin = Ref(AllSpin())"
   ]
  },
  {
   "cell_type": "code",
   "execution_count": 18,
   "metadata": {},
   "outputs": [
    {
     "ename": "LoadError",
     "evalue": "LoadError: UndefVarError: `@benchmark` not defined\nin expression starting at /Users/uwe/Work/jlProjects/QEDjl-project/forks/QEDprocesses.jl/test.ipynb:2",
     "output_type": "error",
     "traceback": [
      "LoadError: UndefVarError: `@benchmark` not defined\n",
      "in expression starting at /Users/uwe/Work/jlProjects/QEDjl-project/forks/QEDprocesses.jl/test.ipynb:2\n"
     ]
    }
   ],
   "source": [
    "\n",
    "@benchmark ParticleStateful2.($dir,$part,$moms,$spin)"
   ]
  },
  {
   "cell_type": "code",
   "execution_count": 19,
   "metadata": {},
   "outputs": [],
   "source": [
    "\n",
    "struct ParticleStateful3{D,S,M,SP} <: AbstractParticle\n",
    "    dir::D\n",
    "    species::S\n",
    "    mom::M\n",
    "    spin_or_pol::SP\n",
    "\n",
    "    function ParticleStateful3(dir::D, species::S, mom::M, spin::SP=AllSpin()) where {D<:ParticleDirection,S<:FermionLike,M<:QEDbase.AbstractFourMomentum,SP<:AbstractSpin}\n",
    "        # constructor for fermions with spin\n",
    "        return new{D,S,M,SP}(dir, species, mom, spin)\n",
    "    end\n",
    "\n",
    "    function ParticleStateful3(dir::D, species::S, mom::M, spin::SP=AllPol()) where {D<:ParticleDirection,S<:BosonLike,M<:QEDbase.AbstractFourMomentum,SP<:AbstractPolarization}\n",
    "        # constructor for bosons with polarization\n",
    "        return new{D,S,M,SP}(dir, species, mom, spin)\n",
    "    end\n",
    "end"
   ]
  },
  {
   "cell_type": "code",
   "execution_count": 20,
   "metadata": {},
   "outputs": [
    {
     "ename": "LoadError",
     "evalue": "LoadError: UndefVarError: `@benchmark` not defined\nin expression starting at /Users/uwe/Work/jlProjects/QEDjl-project/forks/QEDprocesses.jl/test.ipynb:1",
     "output_type": "error",
     "traceback": [
      "LoadError: UndefVarError: `@benchmark` not defined\n",
      "in expression starting at /Users/uwe/Work/jlProjects/QEDjl-project/forks/QEDprocesses.jl/test.ipynb:1\n"
     ]
    }
   ],
   "source": [
    "@benchmark ParticleStateful3.($dir,$part,$moms,$spin)"
   ]
  },
  {
   "cell_type": "code",
   "execution_count": 21,
   "metadata": {},
   "outputs": [
    {
     "ename": "LoadError",
     "evalue": "LoadError: UndefVarError: `@benchmark` not defined\nin expression starting at /Users/uwe/Work/jlProjects/QEDjl-project/forks/QEDprocesses.jl/test.ipynb:1",
     "output_type": "error",
     "traceback": [
      "LoadError: UndefVarError: `@benchmark` not defined\n",
      "in expression starting at /Users/uwe/Work/jlProjects/QEDjl-project/forks/QEDprocesses.jl/test.ipynb:1\n"
     ]
    }
   ],
   "source": [
    "@benchmark ParticleStateful.($dir,$part,$moms,$spin)"
   ]
  },
  {
   "cell_type": "code",
   "execution_count": 22,
   "metadata": {},
   "outputs": [
    {
     "data": {
      "text/plain": [
       "1000-element Vector{SFourMomentum}:\n",
       " [0.6059957415344036, 0.2594246436424752, 0.5458907939362375, 0.002948733465449105]\n",
       " [0.6192141888778163, 0.8154728852926496, 0.995933153696166, 0.5742407292529906]\n",
       " [0.39314038741150636, 0.8632841185747115, 0.2860076380558957, 0.9964085894173209]\n",
       " [0.0332375812100677, 0.19355405081925392, 0.31223284707688104, 0.39326957181759015]\n",
       " [0.3585724082387757, 0.5824160539685566, 0.21723274286114547, 0.619056451990133]\n",
       " [0.008076834601855487, 0.6107476692049776, 0.18254875767407708, 0.9402685241122076]\n",
       " [0.5607138221494857, 0.1489744773136541, 0.7816220306796384, 0.5367099976439313]\n",
       " [0.4956257437441821, 0.6574091932871512, 0.5585248334775019, 0.5902715795534416]\n",
       " [0.7578540764840571, 0.017373826500474476, 0.9049287116733576, 0.7002618935401097]\n",
       " [0.9484205617678134, 0.045435934712273585, 0.7262944523533574, 0.3031482363175455]\n",
       " ⋮\n",
       " [0.7090574150742678, 0.22720690975593938, 0.0328184544937522, 0.5587890229072903]\n",
       " [0.9874167404820944, 0.23656887563694362, 0.04026132382273706, 0.3778153767206045]\n",
       " [0.16304076692206637, 0.2834548642833211, 0.44965499873758563, 0.5338248868849428]\n",
       " [0.09046610855930703, 0.6868786937416538, 0.2553440684172599, 0.23078442337969107]\n",
       " [0.6148579513046886, 0.28358416500096983, 0.8608932850091395, 0.061726933815932195]\n",
       " [0.2314907993361841, 0.2398089384299521, 0.714228018333142, 0.4220596666202836]\n",
       " [0.11403341455641769, 0.9815057605808316, 0.8943227771104054, 0.3267486445975092]\n",
       " [0.2996045803201016, 0.6092020495768548, 0.49408007092227346, 0.5185149703220195]\n",
       " [0.15833725691889566, 0.43096601087997044, 0.05690780804898388, 0.5893864333571656]"
      ]
     },
     "metadata": {},
     "output_type": "display_data"
    }
   ],
   "source": [
    "moms = rand(SFourMomentum,1000)"
   ]
  },
  {
   "cell_type": "code",
   "execution_count": 23,
   "metadata": {},
   "outputs": [
    {
     "ename": "LoadError",
     "evalue": "LoadError: UndefVarError: `@benchmark` not defined\nin expression starting at /Users/uwe/Work/jlProjects/QEDjl-project/forks/QEDprocesses.jl/test.ipynb:1",
     "output_type": "error",
     "traceback": [
      "LoadError: UndefVarError: `@benchmark` not defined\n",
      "in expression starting at /Users/uwe/Work/jlProjects/QEDjl-project/forks/QEDprocesses.jl/test.ipynb:1\n"
     ]
    }
   ],
   "source": [
    "@benchmark ParticleStateful3.($dir,$part,$moms,$spin)"
   ]
  },
  {
   "cell_type": "code",
   "execution_count": 24,
   "metadata": {},
   "outputs": [
    {
     "data": {
      "text/plain": [
       "1000-element Vector{ParticleStateful3{Incoming, Electron, SFourMomentum, AllSpin}}:\n",
       " ParticleStateful3{Incoming, Electron, SFourMomentum, AllSpin}(Incoming(), Electron(), [0.6059957415344036, 0.2594246436424752, 0.5458907939362375, 0.002948733465449105], AllSpin())\n",
       " ParticleStateful3{Incoming, Electron, SFourMomentum, AllSpin}(Incoming(), Electron(), [0.6192141888778163, 0.8154728852926496, 0.995933153696166, 0.5742407292529906], AllSpin())\n",
       " ParticleStateful3{Incoming, Electron, SFourMomentum, AllSpin}(Incoming(), Electron(), [0.39314038741150636, 0.8632841185747115, 0.2860076380558957, 0.9964085894173209], AllSpin())\n",
       " ParticleStateful3{Incoming, Electron, SFourMomentum, AllSpin}(Incoming(), Electron(), [0.0332375812100677, 0.19355405081925392, 0.31223284707688104, 0.39326957181759015], AllSpin())\n",
       " ParticleStateful3{Incoming, Electron, SFourMomentum, AllSpin}(Incoming(), Electron(), [0.3585724082387757, 0.5824160539685566, 0.21723274286114547, 0.619056451990133], AllSpin())\n",
       " ParticleStateful3{Incoming, Electron, SFourMomentum, AllSpin}(Incoming(), Electron(), [0.008076834601855487, 0.6107476692049776, 0.18254875767407708, 0.9402685241122076], AllSpin())\n",
       " ParticleStateful3{Incoming, Electron, SFourMomentum, AllSpin}(Incoming(), Electron(), [0.5607138221494857, 0.1489744773136541, 0.7816220306796384, 0.5367099976439313], AllSpin())\n",
       " ParticleStateful3{Incoming, Electron, SFourMomentum, AllSpin}(Incoming(), Electron(), [0.4956257437441821, 0.6574091932871512, 0.5585248334775019, 0.5902715795534416], AllSpin())\n",
       " ParticleStateful3{Incoming, Electron, SFourMomentum, AllSpin}(Incoming(), Electron(), [0.7578540764840571, 0.017373826500474476, 0.9049287116733576, 0.7002618935401097], AllSpin())\n",
       " ParticleStateful3{Incoming, Electron, SFourMomentum, AllSpin}(Incoming(), Electron(), [0.9484205617678134, 0.045435934712273585, 0.7262944523533574, 0.3031482363175455], AllSpin())\n",
       " ⋮\n",
       " ParticleStateful3{Incoming, Electron, SFourMomentum, AllSpin}(Incoming(), Electron(), [0.7090574150742678, 0.22720690975593938, 0.0328184544937522, 0.5587890229072903], AllSpin())\n",
       " ParticleStateful3{Incoming, Electron, SFourMomentum, AllSpin}(Incoming(), Electron(), [0.9874167404820944, 0.23656887563694362, 0.04026132382273706, 0.3778153767206045], AllSpin())\n",
       " ParticleStateful3{Incoming, Electron, SFourMomentum, AllSpin}(Incoming(), Electron(), [0.16304076692206637, 0.2834548642833211, 0.44965499873758563, 0.5338248868849428], AllSpin())\n",
       " ParticleStateful3{Incoming, Electron, SFourMomentum, AllSpin}(Incoming(), Electron(), [0.09046610855930703, 0.6868786937416538, 0.2553440684172599, 0.23078442337969107], AllSpin())\n",
       " ParticleStateful3{Incoming, Electron, SFourMomentum, AllSpin}(Incoming(), Electron(), [0.6148579513046886, 0.28358416500096983, 0.8608932850091395, 0.061726933815932195], AllSpin())\n",
       " ParticleStateful3{Incoming, Electron, SFourMomentum, AllSpin}(Incoming(), Electron(), [0.2314907993361841, 0.2398089384299521, 0.714228018333142, 0.4220596666202836], AllSpin())\n",
       " ParticleStateful3{Incoming, Electron, SFourMomentum, AllSpin}(Incoming(), Electron(), [0.11403341455641769, 0.9815057605808316, 0.8943227771104054, 0.3267486445975092], AllSpin())\n",
       " ParticleStateful3{Incoming, Electron, SFourMomentum, AllSpin}(Incoming(), Electron(), [0.2996045803201016, 0.6092020495768548, 0.49408007092227346, 0.5185149703220195], AllSpin())\n",
       " ParticleStateful3{Incoming, Electron, SFourMomentum, AllSpin}(Incoming(), Electron(), [0.15833725691889566, 0.43096601087997044, 0.05690780804898388, 0.5893864333571656], AllSpin())"
      ]
     },
     "metadata": {},
     "output_type": "display_data"
    }
   ],
   "source": [
    "ParticleStateful3.(dir,part,moms,spin)"
   ]
  },
  {
   "cell_type": "code",
   "execution_count": 25,
   "metadata": {},
   "outputs": [
    {
     "ename": "UndefVarError",
     "evalue": "UndefVarError: `AbstractProcessDefinition` not defined",
     "output_type": "error",
     "traceback": [
      "UndefVarError: `AbstractProcessDefinition` not defined\n",
      "\n",
      "Stacktrace:\n",
      " [1] top-level scope\n",
      "   @ ~/Work/jlProjects/QEDjl-project/forks/QEDprocesses.jl/test.ipynb:1"
     ]
    }
   ],
   "source": [
    "struct PhaseSpacePoint2{PROC,MODEL,PSDEF,M,N_IN_PARTICLES,N_OUT_PARTICLES}\n",
    "    proc::PROC\n",
    "    model::MODEL\n",
    "    ps_def::PSDEF\n",
    "\n",
    "    in_particles::NTuple{N_IN_PARTICLES,M}\n",
    "    out_particles::NTuple{N_OUT_PARTICLES,M}\n",
    "\n",
    "    function PhaseSpacePoint2(\n",
    "        proc::PROC, model::MODEL, ps_def::PSDEF, in_p::AbstractVector{PhaseSpaceElementType}, out_p::AbstractVector{PhaseSpaceElementType}\n",
    "    ) where {\n",
    "        PROC<:AbstractProcessDefinition,\n",
    "        MODEL<:AbstractModelDefinition,\n",
    "        PSDEF<:AbstractPhasespaceDefinition,\n",
    "        PhaseSpaceElementType<:QEDbase.AbstractFourMomentum,\n",
    "    }\n",
    "    n_in = number_incoming_particles(proc)\n",
    "        n_in == length(in_p) || throw(\n",
    "            InvalidInputError(\n",
    "                \"the number of incoming particles given by the process ($(n_in)) mismatches the number of given stateful incoming particles ($(length(in_p)))\",\n",
    "            ),\n",
    "        )\n",
    "\n",
    "        n_out = number_outgoing_particles(proc)\n",
    "        n_out == length(out_p) || throw(\n",
    "            InvalidInputError(\n",
    "                \"the number of outgoing particles given by the process ($(n_out)) mismatches the number of given stateful outgoing particles ($(length(out_p)))\",\n",
    "            ),\n",
    "        )\n",
    "\n",
    "        return new{\n",
    "            PROC,\n",
    "            MODEL,\n",
    "            PSDEF,\n",
    "            PhaseSpaceElementType,\n",
    "            number_incoming_particles(proc),\n",
    "            number_outgoing_particles(proc),\n",
    "        }(\n",
    "            proc, model, ps_def, Tuple(in_p), Tuple(out_p)\n",
    "        )\n",
    "    end\n",
    "end"
   ]
  },
  {
   "cell_type": "code",
   "execution_count": 26,
   "metadata": {},
   "outputs": [
    {
     "ename": "UndefVarError",
     "evalue": "UndefVarError: `SVector` not defined",
     "output_type": "error",
     "traceback": [
      "UndefVarError: `SVector` not defined\n",
      "\n",
      "Stacktrace:\n",
      " [1] top-level scope\n",
      "   @ ~/Work/jlProjects/QEDjl-project/forks/QEDprocesses.jl/test.ipynb:1"
     ]
    }
   ],
   "source": [
    "in_moms = SVector(rand(SFourMomentum,2)...)\n",
    "out_moms = SVector(rand(SFourMomentum,2)...)\n",
    "\n",
    "@code_warntype PhaseSpacePoint2(TESTPROC,TESTMODEL,TESTPSDEF,in_moms,out_moms)"
   ]
  },
  {
   "cell_type": "code",
   "execution_count": 27,
   "metadata": {},
   "outputs": [
    {
     "ename": "LoadError",
     "evalue": "LoadError: UndefVarError: `@benchmark` not defined\nin expression starting at /Users/uwe/Work/jlProjects/QEDjl-project/forks/QEDprocesses.jl/test.ipynb:1",
     "output_type": "error",
     "traceback": [
      "LoadError: UndefVarError: `@benchmark` not defined\n",
      "in expression starting at /Users/uwe/Work/jlProjects/QEDjl-project/forks/QEDprocesses.jl/test.ipynb:1\n"
     ]
    }
   ],
   "source": [
    "@benchmark PhaseSpacePoint2($TESTPROC,$TESTMODEL,$TESTPSDEF,$in_moms,$out_moms)"
   ]
  },
  {
   "cell_type": "code",
   "execution_count": 28,
   "metadata": {},
   "outputs": [
    {
     "name": "stdout",
     "output_type": "stream",
     "text": [
      "MethodInstance for length(::Vector{SFourMomentum})\n",
      "  from length(\u001b[90ma\u001b[39m::\u001b[1mArray\u001b[22m)\u001b[90m @\u001b[39m \u001b[90mBase\u001b[39m \u001b[90m\u001b[4messentials.jl:10\u001b[24m\u001b[39m\n",
      "Arguments\n",
      "  #self#\u001b[36m::Core.Const(length)\u001b[39m\n",
      "  a\u001b[36m::Vector{SFourMomentum}\u001b[39m\n",
      "Body\u001b[36m::Int64\u001b[39m\n",
      "\u001b[90m1 ─\u001b[39m %1 = Base.arraylen(a)\u001b[36m::Int64\u001b[39m\n",
      "\u001b[90m└──\u001b[39m      return %1\n",
      "\n"
     ]
    }
   ],
   "source": [
    "m = rand(SFourMomentum,10)\n",
    "\n",
    "@code_warntype length(m)"
   ]
  },
  {
   "cell_type": "code",
   "execution_count": 29,
   "metadata": {},
   "outputs": [
    {
     "ename": "UndefVarError",
     "evalue": "UndefVarError: `QEDprocesses` not defined",
     "output_type": "error",
     "traceback": [
      "UndefVarError: `QEDprocesses` not defined\n",
      "\n",
      "Stacktrace:\n",
      " [1] top-level scope\n",
      "   @ ~/Work/jlProjects/QEDjl-project/forks/QEDprocesses.jl/test.ipynb:9"
     ]
    }
   ],
   "source": [
    "function Base.getindex(psp::PhaseSpacePoint2, dir::Incoming, n::Int)\n",
    "    return ParticleStateful(dir,incoming_particles(psp.proc)[n],psp.in_particles[n])\n",
    "end\n",
    "\n",
    "function Base.getindex(psp::PhaseSpacePoint2, dir::Outgoing, n::Int)\n",
    "    return ParticleStateful(dir,outgoing_particles(psp.proc)[n],psp.in_particles[n])\n",
    "end\n",
    "\n",
    "function QEDprocesses.momentum(psp::PhaseSpacePoint2, dir::Incoming, n::Int)\n",
    "    return psp.in_particles[n]\n",
    "end\n",
    "function QEDprocesses.momentum(psp::PhaseSpacePoint2, dir::Outgoing, n::Int)\n",
    "    return psp.out_particles[n]\n",
    "end\n"
   ]
  },
  {
   "cell_type": "code",
   "execution_count": 30,
   "metadata": {},
   "outputs": [
    {
     "ename": "UndefVarError",
     "evalue": "UndefVarError: `TESTPROC` not defined",
     "output_type": "error",
     "traceback": [
      "UndefVarError: `TESTPROC` not defined\n",
      "\n",
      "Stacktrace:\n",
      " [1] top-level scope\n",
      "   @ ~/Work/jlProjects/QEDjl-project/forks/QEDprocesses.jl/test.ipynb:1"
     ]
    }
   ],
   "source": [
    "psp2 = PhaseSpacePoint2(TESTPROC,TESTMODEL,TESTPSDEF,in_moms,out_moms)"
   ]
  },
  {
   "cell_type": "code",
   "execution_count": 31,
   "metadata": {},
   "outputs": [
    {
     "ename": "UndefVarError",
     "evalue": "UndefVarError: `psp2` not defined",
     "output_type": "error",
     "traceback": [
      "UndefVarError: `psp2` not defined\n",
      "\n",
      "Stacktrace:\n",
      " [1] top-level scope\n",
      "   @ ~/Work/jlProjects/QEDjl-project/forks/QEDprocesses.jl/test.ipynb:1"
     ]
    }
   ],
   "source": [
    "@code_warntype psp2[Incoming(),1]"
   ]
  },
  {
   "cell_type": "code",
   "execution_count": 32,
   "metadata": {},
   "outputs": [
    {
     "ename": "LoadError",
     "evalue": "LoadError: UndefVarError: `@benchmark` not defined\nin expression starting at /Users/uwe/Work/jlProjects/QEDjl-project/forks/QEDprocesses.jl/test.ipynb:1",
     "output_type": "error",
     "traceback": [
      "LoadError: UndefVarError: `@benchmark` not defined\n",
      "in expression starting at /Users/uwe/Work/jlProjects/QEDjl-project/forks/QEDprocesses.jl/test.ipynb:1\n"
     ]
    }
   ],
   "source": [
    "@benchmark $psp2[Incoming(),1]"
   ]
  },
  {
   "cell_type": "code",
   "execution_count": 33,
   "metadata": {},
   "outputs": [
    {
     "ename": "UndefVarError",
     "evalue": "UndefVarError: `PhaseSpacePoint` not defined",
     "output_type": "error",
     "traceback": [
      "UndefVarError: `PhaseSpacePoint` not defined\n",
      "\n",
      "Stacktrace:\n",
      " [1] top-level scope\n",
      "   @ ~/Work/jlProjects/QEDjl-project/forks/QEDprocesses.jl/test.ipynb:1"
     ]
    }
   ],
   "source": [
    "psp = PhaseSpacePoint(TESTPROC,TESTMODEL,TESTPSDEF,in_particles,out_particles)"
   ]
  },
  {
   "cell_type": "code",
   "execution_count": 34,
   "metadata": {},
   "outputs": [
    {
     "ename": "LoadError",
     "evalue": "LoadError: UndefVarError: `@benchmark` not defined\nin expression starting at /Users/uwe/Work/jlProjects/QEDjl-project/forks/QEDprocesses.jl/test.ipynb:1",
     "output_type": "error",
     "traceback": [
      "LoadError: UndefVarError: `@benchmark` not defined\n",
      "in expression starting at /Users/uwe/Work/jlProjects/QEDjl-project/forks/QEDprocesses.jl/test.ipynb:1\n"
     ]
    }
   ],
   "source": [
    "@benchmark $psp[Incoming(),1]"
   ]
  },
  {
   "cell_type": "code",
   "execution_count": 35,
   "metadata": {},
   "outputs": [
    {
     "data": {
      "text/plain": [
       "generate_phase_space2 (generic function with 1 method)"
      ]
     },
     "metadata": {},
     "output_type": "display_data"
    }
   ],
   "source": [
    "\n",
    "function generate_phase_space2(proc, model, ps_def, in_ps, out_ps)\n",
    "    in_n = number_incoming_particles(proc)\n",
    "    in_parts = SVector{in_n}(in_ps)\n",
    "\n",
    "    out_n = number_outgoing_particles(proc)\n",
    "    out_parts = SVector{out_n}(out_ps)\n",
    "    return PhaseSpacePoint2(proc,model,ps_def,in_parts,out_parts)\n",
    "end"
   ]
  },
  {
   "cell_type": "code",
   "execution_count": 36,
   "metadata": {},
   "outputs": [
    {
     "ename": "LoadError",
     "evalue": "LoadError: UndefVarError: `@benchmark` not defined\nin expression starting at /Users/uwe/Work/jlProjects/QEDjl-project/forks/QEDprocesses.jl/test.ipynb:1",
     "output_type": "error",
     "traceback": [
      "LoadError: UndefVarError: `@benchmark` not defined\n",
      "in expression starting at /Users/uwe/Work/jlProjects/QEDjl-project/forks/QEDprocesses.jl/test.ipynb:1\n"
     ]
    }
   ],
   "source": [
    "b1 = @benchmark generate_phase_space2.($TESTPROC,$TESTMODEL,$TESTPSDEF,eachrow($in_moms_long),Ref($out_mom_long))"
   ]
  },
  {
   "cell_type": "code",
   "execution_count": 37,
   "metadata": {},
   "outputs": [
    {
     "ename": "LoadError",
     "evalue": "LoadError: UndefVarError: `@benchmark` not defined\nin expression starting at /Users/uwe/Work/jlProjects/QEDjl-project/forks/QEDprocesses.jl/test.ipynb:1",
     "output_type": "error",
     "traceback": [
      "LoadError: UndefVarError: `@benchmark` not defined\n",
      "in expression starting at /Users/uwe/Work/jlProjects/QEDjl-project/forks/QEDprocesses.jl/test.ipynb:1\n"
     ]
    }
   ],
   "source": [
    "b2 = @benchmark generate_phase_space.($TESTPROC,$TESTMODEL,$TESTPSDEF,eachrow($in_moms_long),Ref($out_mom_long))"
   ]
  },
  {
   "cell_type": "code",
   "execution_count": 38,
   "metadata": {},
   "outputs": [
    {
     "ename": "UndefVarError",
     "evalue": "UndefVarError: `mean` not defined",
     "output_type": "error",
     "traceback": [
      "UndefVarError: `mean` not defined\n",
      "\n",
      "Stacktrace:\n",
      " [1] top-level scope\n",
      "   @ ~/Work/jlProjects/QEDjl-project/forks/QEDprocesses.jl/test.ipynb:1"
     ]
    }
   ],
   "source": [
    "judge(mean(b1),mean(b2))"
   ]
  },
  {
   "cell_type": "code",
   "execution_count": 39,
   "metadata": {},
   "outputs": [
    {
     "ename": "UndefVarError",
     "evalue": "UndefVarError: `generate_phase_space` not defined",
     "output_type": "error",
     "traceback": [
      "UndefVarError: `generate_phase_space` not defined\n",
      "\n",
      "Stacktrace:\n",
      " [1] top-level scope\n",
      "   @ ~/Work/jlProjects/QEDjl-project/forks/QEDprocesses.jl/test.ipynb:4"
     ]
    }
   ],
   "source": [
    "in_moms = rand(SFourMomentum,2)\n",
    "out_moms = rand(SFourMomentum,2)\n",
    "\n",
    "psp = generate_phase_space(TESTPROC,TESTMODEL,TESTPSDEF,in_moms,out_moms)\n",
    "psp2 = generate_phase_space2(TESTPROC,TESTMODEL,TESTPSDEF,in_moms,out_moms)"
   ]
  },
  {
   "cell_type": "code",
   "execution_count": 40,
   "metadata": {},
   "outputs": [
    {
     "ename": "LoadError",
     "evalue": "LoadError: UndefVarError: `@benchmark` not defined\nin expression starting at /Users/uwe/Work/jlProjects/QEDjl-project/forks/QEDprocesses.jl/test.ipynb:1",
     "output_type": "error",
     "traceback": [
      "LoadError: UndefVarError: `@benchmark` not defined\n",
      "in expression starting at /Users/uwe/Work/jlProjects/QEDjl-project/forks/QEDprocesses.jl/test.ipynb:1\n"
     ]
    }
   ],
   "source": [
    "@benchmark QEDprocesses.momentum($psp,Incoming(),1)"
   ]
  },
  {
   "cell_type": "code",
   "execution_count": 41,
   "metadata": {},
   "outputs": [
    {
     "ename": "LoadError",
     "evalue": "LoadError: UndefVarError: `@benchmark` not defined\nin expression starting at /Users/uwe/Work/jlProjects/QEDjl-project/forks/QEDprocesses.jl/test.ipynb:1",
     "output_type": "error",
     "traceback": [
      "LoadError: UndefVarError: `@benchmark` not defined\n",
      "in expression starting at /Users/uwe/Work/jlProjects/QEDjl-project/forks/QEDprocesses.jl/test.ipynb:1\n"
     ]
    }
   ],
   "source": [
    "@benchmark QEDprocesses.momentum($psp2,Incoming(),1)"
   ]
  },
  {
   "cell_type": "code",
   "execution_count": 42,
   "metadata": {},
   "outputs": [
    {
     "ename": "LoadError",
     "evalue": "LoadError: UndefVarError: `@benchmark` not defined\nin expression starting at /Users/uwe/Work/jlProjects/QEDjl-project/forks/QEDprocesses.jl/test.ipynb:1",
     "output_type": "error",
     "traceback": [
      "LoadError: UndefVarError: `@benchmark` not defined\n",
      "in expression starting at /Users/uwe/Work/jlProjects/QEDjl-project/forks/QEDprocesses.jl/test.ipynb:1\n"
     ]
    }
   ],
   "source": [
    "@benchmark $psp[Incoming(),1]"
   ]
  },
  {
   "cell_type": "code",
   "execution_count": 43,
   "metadata": {},
   "outputs": [
    {
     "ename": "LoadError",
     "evalue": "LoadError: UndefVarError: `@benchmark` not defined\nin expression starting at /Users/uwe/Work/jlProjects/QEDjl-project/forks/QEDprocesses.jl/test.ipynb:1",
     "output_type": "error",
     "traceback": [
      "LoadError: UndefVarError: `@benchmark` not defined\n",
      "in expression starting at /Users/uwe/Work/jlProjects/QEDjl-project/forks/QEDprocesses.jl/test.ipynb:1\n"
     ]
    }
   ],
   "source": [
    "@benchmark $psp2[Incoming(),1]"
   ]
  },
  {
   "cell_type": "code",
   "execution_count": 44,
   "metadata": {},
   "outputs": [],
   "source": []
  }
 ],
 "metadata": {
  "kernelspec": {
   "display_name": "Julia 1.10.0",
   "language": "julia",
   "name": "julia-1.10"
  },
  "language_info": {
   "file_extension": ".jl",
   "mimetype": "application/julia",
   "name": "julia",
   "version": "1.10.0"
  }
 },
 "nbformat": 4,
 "nbformat_minor": 2
}
